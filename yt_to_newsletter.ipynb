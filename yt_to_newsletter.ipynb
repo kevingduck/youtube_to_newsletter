{
 "cells": [
  {
   "cell_type": "code",
   "execution_count": null,
   "id": "ff4bc71a",
   "metadata": {},
   "outputs": [],
   "source": [
    "\n",
    "from youtube_transcript_api import YouTubeTranscriptApi\n",
    "from youtube_transcript_api.formatters import TextFormatter\n",
    "\n",
    "video_id = 'QRZ_l7cVzzU'\n",
    "\n",
    "# Retrieve the transcript\n",
    "transcript = YouTubeTranscriptApi.get_transcript(video_id)\n",
    "\n",
    "# Initialize the TextFormatter\n",
    "formatter = TextFormatter()\n",
    "\n",
    "# Format the transcript to plain text\n",
    "text_formatted = formatter.format_transcript(transcript)\n",
    "\n",
    "print(text_formatted)\n",
    "\n",
    "# Save the formatted text to a file\n",
    "with open('/mnt/data/your_transcript.txt', 'w', encoding='utf-8') as text_file:\n",
    "    text_file.write(text_formatted)\n"
   ]
  }
 ],
 "metadata": {},
 "nbformat": 4,
 "nbformat_minor": 5
}
