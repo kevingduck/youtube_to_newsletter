!pip install youtube-transcript-api
from youtube_transcript_api import YouTubeTranscriptApi
from youtube_transcript_api.formatters import TextFormatter

video_id = 'QRZ_l7cVzzU'

# Retrieve the transcript
transcript = YouTubeTranscriptApi.get_transcript(video_id)

# Initialize the TextFormatter
formatter = TextFormatter()

# Format the transcript to plain text
text_formatted = formatter.format_transcript(transcript)

print(text_formatted)

# Save the formatted text to a file
with open('your_transcript.txt', 'w', encoding='utf-8') as text_file:
    text_file.write(text_formatted)
